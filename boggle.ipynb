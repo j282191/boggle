{
 "cells": [
  {
   "cell_type": "code",
   "execution_count": 1,
   "id": "dd0d95a2",
   "metadata": {},
   "outputs": [],
   "source": [
    "import cplex"
   ]
  },
  {
   "cell_type": "markdown",
   "id": "0d2ed7c8",
   "metadata": {},
   "source": [
    "# Boggle Board Generator\n",
    "\n",
    "We have 16 squares, indexed by $j=0,...,15$.\n",
    "\n",
    "\n",
    "| The grid: |     |     |     |     |\n",
    "| ---       | --- | --- | ----| --- |\n",
    "|           |  0  |  1  |  2  |  3  |\n",
    "|           |  4  |  5  |  6  |  7  |\n",
    "|           |  8  |  9  |  10 |  11 | \n",
    "|           | 12  |  13 |  14 |  15 |\n",
    "\n",
    "\n",
    "We have the set of words that must appear $W$.  For some word $w \\in W$, the length of word $w$ is $m_w$.  Let $i$ be the index of the $i^{th}$ letter of the word, where $i=0,...,m_w-1$.  Notationally we may refer to the letter as $w_i$.  The words are composed of the unique set of letters $A$, where $|A|=n$.  The maximum word length is 16.\n",
    "\n",
    "Define the \"decision variables\" $x$ as:\n",
    "\n",
    "\"x_{wij} = \\\\begin{cases} 1 & \\\\mbox{ if word } w { letter index } i \\\\mbox{ is assigned to square } j, \\\\\\\\\\n\",\n",
    "    \"                       0 & \\\\mbox{ otherwise }\\n\",\n",
    "    \"         \\\\end{cases}\\n\",\n",
    "    \"\\\\end{align}\\n\",\n",
    "\n",
    "                   \n",
    "It's worth noting here that we have $16\\timxs16|W|$ variables.  That means we have $2^{256|W|}$ possible solutions.  Not all solutions will be valid.  If a solution satisfies the following constraints, then it is valid.\n",
    "\n",
    "Only one letter is assigned per square:\n",
    "\\begin{align}\n",
    "\\sum_j x_{wij} &= 1 && \\forall w, \\forall i\n",
    "\\end{align}\n",
    "\n",
    "\n",
    "Letter $w_i$ appears in at least one square (for each word $w$, each letter $w_i$).\n",
    "\\begin{align}\n",
    "\\sum_j x_{wij} &\\ge 1 && \\forall w, \\forall i\n",
    "\\end{align}\n",
    "\n",
    "\n",
    "Let $\\Omega_i$ be the set of neighbors of square $i$ with respect to the grid indexes above.  For example:\n",
    "\\begin{align}\n",
    "\\Omega_0 &= \\{ 1, 4, 5 \\} \\\\\n",
    "\\Omega_5 &= \\{ 0, 1, 2, 4, 6, 8, 9, 10 \\}\\\\\n",
    "\\mbox{etc.}\n",
    "\\end{align}\n",
    "\n",
    "For each word $w \\in W$, consider the sequence of letters $w_0w_1...w_{m-1}$\n",
    "\\begin{align}\n",
    "\\sum_{\\ell \\in \\Omega_i} x_{\\ell w_{k+1}} &\\ge x_{iw_k} && \\forall i=0,...,15, & \\forall k=0,...,m-1 , & \\forall & w \\in W\n",
    "\\end{align}\n",
    "\n",
    "Each word $w \\in W$ must start in some where.\n",
    "\\begin{align}\n",
    "\\sum_j x_{w0j} &= 1 \\forall w \\in W \n"
   ]
  },
  {
   "cell_type": "code",
   "execution_count": 2,
   "id": "5c79ab80",
   "metadata": {},
   "outputs": [
    {
     "name": "stdout",
     "output_type": "stream",
     "text": [
      "['X', 's', 'q', 'u', 'a', 'r', 'e', 'b', 't', 'h', 'o', 'l']\n"
     ]
    }
   ],
   "source": [
    "word_list = [\"square\",\"gold\",\"blue\",\"toast\"]\n",
    "\n",
    "filler_string = \"X\"\n",
    "alphabet = [filler_string] #always have some filler letter(s)\n",
    "\n",
    "for w in word_list:\n",
    "    for wk in range(len(w)):\n",
    "        if w[wk] not in alphabet:\n",
    "            alphabet.append(w[wk])\n",
    "\n",
    "print(alphabet)"
   ]
  },
  {
   "cell_type": "code",
   "execution_count": 3,
   "id": "6f74359f",
   "metadata": {},
   "outputs": [
    {
     "name": "stdout",
     "output_type": "stream",
     "text": [
      "Omega 0 : [1, 4, 5]\n",
      "Omega 1 : [0, 2, 4, 5, 6]\n",
      "Omega 2 : [1, 3, 5, 6, 7]\n",
      "Omega 3 : [2, 6, 7]\n",
      "Omega 4 : [0, 1, 5, 8, 9]\n",
      "Omega 5 : [0, 1, 2, 4, 6, 8, 9, 10]\n",
      "Omega 6 : [1, 2, 3, 5, 7, 9, 10, 11]\n",
      "Omega 7 : [2, 3, 6, 10, 11]\n",
      "Omega 8 : [4, 5, 9, 12, 13]\n",
      "Omega 9 : [4, 5, 6, 8, 10, 12, 13, 14]\n",
      "Omega 10 : [5, 6, 7, 9, 11, 13, 14, 15]\n",
      "Omega 11 : [6, 7, 10, 14, 15]\n",
      "Omega 12 : [8, 9, 13]\n",
      "Omega 13 : [8, 9, 10, 12, 14]\n",
      "Omega 14 : [9, 10, 11, 13, 15]\n",
      "Omega 15 : [10, 11, 14]\n"
     ]
    }
   ],
   "source": [
    "Omega = [] #init\n",
    "Omega.append([1,4,5]) # 0\n",
    "Omega.append([0,2,4,5,6]) # 1\n",
    "Omega.append([1,3,5,6,7]) # 2\n",
    "Omega.append([2,6,7]) # 3\n",
    "Omega.append([0,1,5,8,9]) # 4\n",
    "Omega.append([0,1,2,4,6,8,9,10]) # 5\n",
    "Omega.append([1,2,3,5,7,9,10,11]) # 6\n",
    "Omega.append([2,3,6,10,11]) # 7\n",
    "Omega.append([4,5,9,12,13]) # 8\n",
    "Omega.append([4,5,6,8,10,12,13,14]) # 9\n",
    "Omega.append([5,6,7,9,11,13,14,15]) # 10\n",
    "Omega.append([6,7,10,14,15]) # 11\n",
    "Omega.append([8,9,13]) # 12\n",
    "Omega.append([8,9,10,12,14]) # 13\n",
    "Omega.append([9,10,11,13,15]) # 14\n",
    "Omega.append([10,11,14]) # 15\n",
    "\n",
    "for i in range(len(Omega)):\n",
    "    print(\"Omega\",i,\":\",Omega[i])"
   ]
  },
  {
   "cell_type": "code",
   "execution_count": 4,
   "id": "eeda253a",
   "metadata": {},
   "outputs": [
    {
     "name": "stdout",
     "output_type": "stream",
     "text": [
      "Problem name         : boggle_generator\n",
      "Objective sense      : Maximize\n",
      "Variables            :     192  [Binary: 192]\n",
      "Objective nonzeros   :      16\n",
      "Linear constraints   :     204  [Greater: 188,  Equal: 16]\n",
      "  Nonzeros           :    1484\n",
      "  RHS nonzeros       :      28\n",
      "\n",
      "Variables            : Min LB: 0.000000         Max UB: 1.000000       \n",
      "Objective nonzeros   : Min   : 1.000000         Max   : 1.000000       \n",
      "Linear constraints   :\n",
      "  Nonzeros           : Min   : 1.000000         Max   : 1.000000       \n",
      "  RHS nonzeros       : Min   : 1.000000         Max   : 1.000000       \n",
      "\n"
     ]
    }
   ],
   "source": [
    "c = cplex.Cplex() #init model\n",
    "\n",
    "c.set_problem_name(\"boggle_generator\")\n",
    "\n",
    "n = 16\n",
    "m = len(alphabet)\n",
    "\n",
    "\n",
    "\n",
    "# set objective to prefer the FILLER word.  Just for sanity.  Not technically required.\n",
    "c.objective.set_sense(c.objective.sense.maximize)\n",
    "x_var_names = []\n",
    "obj_coeffs = []\n",
    "for i in range(n):\n",
    "    for j in alphabet:\n",
    "        x_var_names.append(\"x_\" + str(i) + \"_\" + j)\n",
    "        if j == filler_string:\n",
    "            obj_coeffs.append(1.0) #prefer filler\n",
    "        else:\n",
    "            obj_coeffs.append(0.0)\n",
    "c.variables.add(names = x_var_names,\n",
    "               types=[c.variables.type.binary]*(n*m),\n",
    "               obj=obj_coeffs)\n",
    "\n",
    "\n",
    "\n",
    "\n",
    "# constraint: only one letter per square\n",
    "for i in range(n):\n",
    "    var_list = []\n",
    "    coeff_list = []\n",
    "    for j in alphabet:\n",
    "        var_list.append(\"x_\" + str(i) + \"_\" + j)\n",
    "        coeff_list.append(1.0)\n",
    "    c.linear_constraints.add(lin_expr=[cplex.SparsePair(ind=var_list, val=coeff_list)],\n",
    "                            senses=[\"E\"],\n",
    "                            rhs=[1.0],\n",
    "                            names=[\"only_one_letter_in_square_\" + str(i)])\n",
    "\n",
    "# constraint: letter j appears in at least one square\n",
    "for j in alphabet:\n",
    "    var_list = []\n",
    "    coeff_list = []\n",
    "    for i in range(n):\n",
    "        var_list.append(\"x_\" + str(i) + \"_\" + j)\n",
    "        coeff_list.append(1.0)\n",
    "    c.linear_constraints.add(lin_expr=[cplex.SparsePair(ind=var_list, val=coeff_list)],\n",
    "                             senses=[\"G\"],\n",
    "                             rhs=[1.0],\n",
    "                             names=[\"letter_\" + j + \"_must_appear_in_some_square\"])\n",
    "\n",
    "\n",
    "# constraint: consecutive letters need to appear within the omega neighborhood\n",
    "for w in word_list:\n",
    "    for wk in range(len(w)-1):\n",
    "        j = w[wk]\n",
    "        next_j = w[wk+1]\n",
    "        for i in range(n):\n",
    "            var_list = []\n",
    "            coeff_list = []\n",
    "            var_list.append(\"x_\" + str(i) + \"_\" + j)\n",
    "            coeff_list.append(-1.0)\n",
    "            for ell in Omega[i]:\n",
    "                var_list.append(\"x_\" + str(ell) + \"_\" + next_j)\n",
    "                coeff_list.append(1.0)\n",
    "            c.linear_constraints.add(lin_expr=[cplex.SparsePair(ind=var_list,val=coeff_list)],\n",
    "                                    senses=[\"G\"],\n",
    "                                    rhs=[0.0],\n",
    "                                    names=[w + \"_\" + j + \"_\" + next_j + \"_square_\" + str(i)])\n",
    "            \n",
    "\n",
    "    \n",
    "# write the model to a file\n",
    "c.write(c.get_problem_name() + \".lpt\")\n",
    "\n",
    "print(c.get_stats())"
   ]
  },
  {
   "cell_type": "code",
   "execution_count": 5,
   "id": "14188c25",
   "metadata": {},
   "outputs": [
    {
     "name": "stdout",
     "output_type": "stream",
     "text": [
      "Version identifier: 22.1.0.0 | 2022-03-25 | 54982fbec\n",
      "CPXPARAM_Read_DataCheck                          1\n",
      "Tried aggregator 1 time.\n",
      "Reduced MIP has 204 rows, 192 columns, and 1484 nonzeros.\n",
      "Reduced MIP has 192 binaries, 0 generals, 0 SOSs, and 0 indicators.\n",
      "Presolve time = 0.01 sec. (0.72 ticks)\n",
      "Found incumbent of value 1.000000 after 0.02 sec. (2.35 ticks)\n",
      "Probing time = 0.00 sec. (0.43 ticks)\n",
      "Tried aggregator 1 time.\n",
      "Detecting symmetries...\n",
      "Reduced MIP has 204 rows, 192 columns, and 1484 nonzeros.\n",
      "Reduced MIP has 192 binaries, 0 generals, 0 SOSs, and 0 indicators.\n",
      "Presolve time = 0.01 sec. (1.16 ticks)\n",
      "Probing time = 0.00 sec. (0.43 ticks)\n",
      "Clique table members: 16.\n",
      "MIP emphasis: balance optimality and feasibility.\n",
      "MIP search method: dynamic search.\n",
      "Parallel mode: deterministic, using up to 4 threads.\n",
      "Root relaxation solution time = 0.00 sec. (1.80 ticks)\n",
      "\n",
      "        Nodes                                         Cuts/\n",
      "   Node  Left     Objective  IInf  Best Integer    Best Bound    ItCnt     Gap\n",
      "\n",
      "*     0+    0                            1.0000       16.0000              --- \n",
      "*     0+    0                            3.0000       16.0000           433.33%\n",
      "      0     0        5.0000    55        3.0000        5.0000      154   66.67%\n",
      "*     0+    0                            4.0000        5.0000            25.00%\n",
      "      0     2        5.0000    10        4.0000        5.0000      154   25.00%\n",
      "Elapsed time = 0.15 sec. (21.49 ticks, tree = 0.02 MB, solutions = 3)\n",
      "\n",
      "Root node processing (before b&c):\n",
      "  Real time             =    0.13 sec. (21.38 ticks)\n",
      "Parallel b&c, 4 threads:\n",
      "  Real time             =    0.11 sec. (1.85 ticks)\n",
      "  Sync time (average)   =    0.08 sec.\n",
      "  Wait time (average)   =    0.00 sec.\n",
      "                          ------------\n",
      "Total (root+branch&cut) =    0.24 sec. (23.23 ticks)\n"
     ]
    }
   ],
   "source": [
    "#Optional: read in problem from local file\n",
    "#c.read(\"xxxxxx\") \n",
    "\n",
    "c.solve()"
   ]
  },
  {
   "cell_type": "code",
   "execution_count": 6,
   "id": "6a8bac95",
   "metadata": {},
   "outputs": [
    {
     "name": "stdout",
     "output_type": "stream",
     "text": [
      "x_0_X : 1.0\n",
      "x_1_b : 1.0\n",
      "x_2_a : 1.0\n",
      "x_3_q : 1.0\n",
      "x_4_X : 1.0\n",
      "x_5_r : 1.0\n",
      "x_6_u : 1.0\n",
      "x_7_s : 1.0\n",
      "x_8_t : 1.0\n",
      "x_9_t : 1.0\n",
      "x_10_e : 1.0\n",
      "x_11_X : 1.0\n",
      "x_12_X : 1.0\n",
      "x_13_l : 1.0\n",
      "x_14_o : 1.0\n",
      "x_15_h : 1.0\n"
     ]
    }
   ],
   "source": [
    "var_names = c.variables.get_names()\n",
    "solution_values = c.solution.get_values()\n",
    "\n",
    "for v in range(len(var_names)):\n",
    "    if abs(solution_values[v]) > 1e-9: #only print nonzero values\n",
    "        print(var_names[v],\":\",solution_values[v])"
   ]
  },
  {
   "cell_type": "code",
   "execution_count": 7,
   "id": "8b19e126",
   "metadata": {},
   "outputs": [
    {
     "name": "stdout",
     "output_type": "stream",
     "text": [
      "['X', 'b', 'a', 'q']\n",
      "['X', 'r', 'u', 's']\n",
      "['t', 't', 'e', 'X']\n",
      "['X', 'l', 'o', 'h']\n"
     ]
    }
   ],
   "source": [
    "grid = [[0,0,0,0], [0,0,0,0], [0,0,0,0], [0,0,0,0]]\n",
    "\n",
    "\n",
    "for v in range(len(var_names)):\n",
    "    if abs(solution_values[v]) > 1e-9:\n",
    "        i = var_names[v].split(\"_\")[1]\n",
    "        j = var_names[v].split(\"_\")[2]\n",
    "        \n",
    "        row = int(i) // 4\n",
    "        col = int(i) % 4\n",
    "        grid[row][col] = j\n",
    "        \n",
    "\n",
    "for row in grid:\n",
    "    print(row)"
   ]
  },
  {
   "cell_type": "markdown",
   "id": "257a11af",
   "metadata": {},
   "source": [
    "This was a first draft.  There are some details that need to be worked out.\n",
    "\n",
    "1. Make filler characters optional if the board is filled completely with valid words.\n",
    "2. I think I need to declare another variable ($y$) as the \"starting square\" for each word.  I think right now the $\\Omega$ constraints are actually too tight."
   ]
  }
 ],
 "metadata": {
  "kernelspec": {
   "display_name": "Python 3.9.12 ('base')",
   "language": "python",
   "name": "python3"
  },
  "language_info": {
   "codemirror_mode": {
    "name": "ipython",
    "version": 3
   },
   "file_extension": ".py",
   "mimetype": "text/x-python",
   "name": "python",
   "nbconvert_exporter": "python",
   "pygments_lexer": "ipython3",
   "version": "3.9.12"
  },
  "vscode": {
   "interpreter": {
    "hash": "c684a6fc7ea5d844d0888e3fc402a914f9a0757a714c6fe2ccce21fe8443d9ca"
   }
  }
 },
 "nbformat": 4,
 "nbformat_minor": 5
}
